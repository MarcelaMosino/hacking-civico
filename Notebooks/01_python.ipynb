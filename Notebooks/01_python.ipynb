{
  "nbformat": 4,
  "nbformat_minor": 0,
  "metadata": {
    "colab": {
      "name": "01-python.ipynb",
      "provenance": [],
      "authorship_tag": "ABX9TyPUOxHmGtl/J98SIHXlwB1k",
      "include_colab_link": true
    },
    "kernelspec": {
      "name": "python3",
      "display_name": "Python 3"
    }
  },
  "cells": [
    {
      "cell_type": "markdown",
      "metadata": {
        "id": "view-in-github",
        "colab_type": "text"
      },
      "source": [
        "<a href=\"https://colab.research.google.com/github/MarcelaMosino/hacking-civico/blob/master/Notebooks/01_python.ipynb\" target=\"_parent\"><img src=\"https://colab.research.google.com/assets/colab-badge.svg\" alt=\"Open In Colab\"/></a>"
      ]
    },
    {
      "cell_type": "markdown",
      "metadata": {
        "id": "PAP9MAMmyYif",
        "colab_type": "text"
      },
      "source": [
        "![logo](https://camo.githubusercontent.com/c07551da1fb9d966dd146ce3c79909bf4e282630/687474703a2f2f636f6465616e646f6d657869636f2e6f72672f7265736f75726365732f696d672f636f6465616e646f6d657869636f2e706e67)\n",
        " \n",
        "\n",
        "## Curso de Datos Abiertos y Hacking Cívico\n",
        "Este curso tiene como objetivo habilitar las capacidades de la ciudadanía y los servidores públicos en el uso y generación de datos abiertos para el bien común. Está estructurado en tres módulos consecutivos, llamados “rutas”, cada una de estas rutas está diseñada para abarcar temas específicos. El curso es virtual de tipo autogestivo.\n",
        "\n",
        "No se requiere de conocimiento previo sobre los temas, el nivel del curso abarca conceptos básicos a intermedios.\n",
        "\n",
        "* Ruta Cívica zap : Conoce qué son los datos abiertos y la tecnología cívica.\n",
        "* Ruta Coder keyboard : Comienza a programar y desarrolla tus primeros hacks cívicos.\n",
        "* Ruta Hacker space_invader : Pon en uso tus habilidades de programación y desarrollo."
      ]
    },
    {
      "cell_type": "code",
      "metadata": {
        "id": "Qzlafu7EzA80",
        "colab_type": "code",
        "colab": {
          "base_uri": "https://localhost:8080/",
          "height": 35
        },
        "outputId": "0e654b7e-ca37-47b3-83db-e9ecd5e68352"
      },
      "source": [
        "print (\"Hola Mundo\")"
      ],
      "execution_count": 2,
      "outputs": [
        {
          "output_type": "stream",
          "text": [
            "Hola Mundo\n"
          ],
          "name": "stdout"
        }
      ]
    }
  ]
}