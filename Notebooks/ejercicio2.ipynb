{
  "nbformat": 4,
  "nbformat_minor": 0,
  "metadata": {
    "colab": {
      "name": "ejercicio2.ipynb",
      "provenance": [],
      "authorship_tag": "ABX9TyOz/wvy0SubkDohT/DmhDZg",
      "include_colab_link": true
    },
    "kernelspec": {
      "name": "python3",
      "display_name": "Python 3"
    }
  },
  "cells": [
    {
      "cell_type": "markdown",
      "metadata": {
        "id": "view-in-github",
        "colab_type": "text"
      },
      "source": [
        "<a href=\"https://colab.research.google.com/github/MarcelaMosino/hacking-civico/blob/master/Notebooks/ejercicio2.ipynb\" target=\"_parent\"><img src=\"https://colab.research.google.com/assets/colab-badge.svg\" alt=\"Open In Colab\"/></a>"
      ]
    },
    {
      "cell_type": "markdown",
      "metadata": {
        "id": "Qnjh73YrrDDc",
        "colab_type": "text"
      },
      "source": [
        "Ejercicio 2 Años bisiestos"
      ]
    },
    {
      "cell_type": "code",
      "metadata": {
        "id": "MpBSLAmAppsT",
        "colab_type": "code",
        "colab": {
          "base_uri": "https://localhost:8080/",
          "height": 260
        },
        "outputId": "1b65c5ab-4bc7-4c12-8aec-00917562994a"
      },
      "source": [
        "print(\"El programa imprime los años bisiestos entre el 2000 y el 2050\")\n",
        "\n",
        "year = 2000\n",
        "\n",
        "for i in range(2000, 2051, 4):\n",
        "  print (year)\n",
        "  year = year+4"
      ],
      "execution_count": 3,
      "outputs": [
        {
          "output_type": "stream",
          "text": [
            "El programa imprime los años bisiestos entre el 2000 y el 2050\n",
            "2000\n",
            "2004\n",
            "2008\n",
            "2012\n",
            "2016\n",
            "2020\n",
            "2024\n",
            "2028\n",
            "2032\n",
            "2036\n",
            "2040\n",
            "2044\n",
            "2048\n"
          ],
          "name": "stdout"
        }
      ]
    }
  ]
}