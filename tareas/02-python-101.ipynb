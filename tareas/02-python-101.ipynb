{
  "nbformat": 4,
  "nbformat_minor": 0,
  "metadata": {
    "colab": {
      "name": "Untitled2.ipynb",
      "provenance": [],
      "authorship_tag": "ABX9TyNdnNPKD0vtvMC+eIcXUY+S",
      "include_colab_link": true
    },
    "kernelspec": {
      "name": "python3",
      "display_name": "Python 3"
    }
  },
  "cells": [
    {
      "cell_type": "markdown",
      "metadata": {
        "id": "view-in-github",
        "colab_type": "text"
      },
      "source": [
        "<a href=\"https://colab.research.google.com/github/MarcelaMosino/hacking-civico/blob/master/tareas/02-python-101.ipynb\" target=\"_parent\"><img src=\"https://colab.research.google.com/assets/colab-badge.svg\" alt=\"Open In Colab\"/></a>"
      ]
    },
    {
      "cell_type": "markdown",
      "metadata": {
        "id": "2uP2m5iSb55m",
        "colab_type": "text"
      },
      "source": [
        "# Función que calcula la densidad de población\n",
        "\n",
        "> El objetivo de la función es calcular la densidad de población\n",
        "\n",
        "Comienzo almacenando los datos de extensión territorial y número de habitantes en un directorio para acceder fácilmente a la información sin tener que declarar 6 variables. Además declaré otro directorio del gasto en defensa nacional durante 2019 y 2020, **defensa** que utilizaré después.\n",
        "\n",
        "La fórmula para calcular la densidad de población es el número de habitantes dividido por el territorio en km cuadrados, es por esto que necesito dos parámetros: *número de habitantes* ***nh*** y *extensión territorial en km2* ***et***.\n",
        "``` \n",
        "def densidad_de_poblacion(nh, et):\n",
        "```\n",
        "\n",
        "En el cuerpo de la función, se realiza el cálculo y devuelve el resultado sin imprimirlo, éste se almacena en la variable ***resultado*** para regresar el valor.\n",
        "\n",
        "Para calcular el gasto per cápita, realicé otra función que recibe como parámetro el total del presupuesto destinado al sector de la **defensa**, pues el número de habitantes no cambia.\n",
        "```\n",
        " def gasto_per_capita(gasto):\n",
        "```\n",
        "En el cuerpo de la función, al igual que en la función **densidad_de_poblacion**, devuelve la relación sin imprimirla, ésta vez gasto dividido por habitantes.\n",
        "\n",
        "Finalmente, para imprimir, recorro las colecciones con un ciclo **for**. \n"
      ]
    },
    {
      "cell_type": "code",
      "metadata": {
        "id": "8U9q_trQb5Ks",
        "colab_type": "code",
        "colab": {
          "base_uri": "https://localhost:8080/",
          "height": 295
        },
        "outputId": "37c01f36-8a08-4ee0-a2e5-4171772f8e4f"
      },
      "source": [
        "datos =[\n",
        "  {\"Territorio\":\"Leon\", \n",
        "   \"Habitantes\":1578626, \n",
        "   \"Extension\":1219.67},\n",
        "  {\"Territorio\":\"Guanajuato\", \n",
        "   \"Habitantes\":5853677, \n",
        "   \"Extension\":30589.0},\n",
        "  {\"Territorio\":\"Mexico\", \n",
        "   \"Habitantes\":119530753, \n",
        "   \"Extension\":1964375.0}\n",
        "]\n",
        "\n",
        "defensa = [\n",
        "  {\"ano\": \"2019\", \"MDP\": 63334.89},\n",
        "  {\"ano\": \"2020\", \"MDP\": 57856.79}\n",
        "]\n",
        "\n",
        "def densidad_de_poblacion(nh, et):\n",
        "  resultado = nh/et\n",
        "  return resultado\n",
        "\n",
        "def gasto_per_capita(gasto):\n",
        "  resultado = gasto/119530753\n",
        "  return resultado * 1000000\n",
        "\n",
        "for i in datos:\n",
        "  print(\"Territorio: \", i['Territorio'])\n",
        "  print(\"Densidad: \",densidad_de_poblacion(i['Habitantes'], i['Extension']))\n",
        "  print()\n",
        "\n",
        "print()\n",
        "\n",
        "for i in defensa:\n",
        "  print(\"Gasto en defensa el ano: \", i['ano'])\n",
        "  print(\"Gasto per capita\", gasto_per_capita(i['MDP']),\" pesos\")\n",
        "  print()\n"
      ],
      "execution_count": 16,
      "outputs": [
        {
          "output_type": "stream",
          "text": [
            "Territorio:  Leon\n",
            "Densidad:  1294.3058368247148\n",
            "\n",
            "Territorio:  Guanajuato\n",
            "Densidad:  191.3654254797476\n",
            "\n",
            "Territorio:  Mexico\n",
            "Densidad:  60.84925383391664\n",
            "\n",
            "\n",
            "Gasto en defensa el ano:  2019\n",
            "Gasto per capita 529.8627207677677  pesos\n",
            "\n",
            "Gasto en defensa el ano:  2020\n",
            "Gasto per capita 484.03267400147644  pesos\n",
            "\n"
          ],
          "name": "stdout"
        }
      ]
    }
  ]
}