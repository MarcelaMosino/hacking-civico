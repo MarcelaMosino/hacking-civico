{
  "nbformat": 4,
  "nbformat_minor": 0,
  "metadata": {
    "colab": {
      "name": "ejercicio1.ipynb",
      "provenance": [],
      "collapsed_sections": [],
      "authorship_tag": "ABX9TyNdyTqoryHF0caxmukl1dma",
      "include_colab_link": true
    },
    "kernelspec": {
      "name": "python3",
      "display_name": "Python 3"
    }
  },
  "cells": [
    {
      "cell_type": "markdown",
      "metadata": {
        "id": "view-in-github",
        "colab_type": "text"
      },
      "source": [
        "<a href=\"https://colab.research.google.com/github/MarcelaMosino/hacking-civico/blob/master/ejercicio1.ipynb\" target=\"_parent\"><img src=\"https://colab.research.google.com/assets/colab-badge.svg\" alt=\"Open In Colab\"/></a>"
      ]
    },
    {
      "cell_type": "markdown",
      "metadata": {
        "id": "9J6pHCgymRJp",
        "colab_type": "text"
      },
      "source": [
        "Ejercicio 1\n",
        "Taxonomía de Generaciones"
      ]
    },
    {
      "cell_type": "code",
      "metadata": {
        "id": "ChclY4jlmPLL",
        "colab_type": "code",
        "colab": {
          "base_uri": "https://localhost:8080/",
          "height": 87
        },
        "outputId": "b67f7592-c903-44b5-a9cf-5ef82f2144e9"
      },
      "source": [
        "print(\"El programa muestra si una persona predeterminada\")\n",
        "print(\"pertenece o no a la generación Millenial\\n\")\n",
        "\n",
        "nombre = \"Marcela\"\n",
        "nacimiento = 1999\n",
        "\n",
        "mensaje = nombre +\" nacio en el año \" + str(nacimiento)\n",
        "if nacimiento >=1981 and nacimiento <1993 :\n",
        "  mensaje = mensaje + \" por lo que es MILLENIAL\"\n",
        "else :\n",
        "  mensaje = mensaje + \" por lo que NO es millenial\"\n",
        "\n",
        "print (mensaje)"
      ],
      "execution_count": 3,
      "outputs": [
        {
          "output_type": "stream",
          "text": [
            "El programa muestra si una persona predeterminada\n",
            "pertenece o no a la generación Millenial\n",
            "\n",
            "Marcela nacio en el año 1999 por lo que NO es millenial\n"
          ],
          "name": "stdout"
        }
      ]
    },
    {
      "cell_type": "code",
      "metadata": {
        "id": "XwySEY0CooNi",
        "colab_type": "code",
        "colab": {
          "base_uri": "https://localhost:8080/",
          "height": 55
        },
        "outputId": "86319213-0497-4e4c-b4ab-de8b4bf59691"
      },
      "source": [
        "from google.colab import drive\n",
        "drive.mount('/content/drive')"
      ],
      "execution_count": 4,
      "outputs": [
        {
          "output_type": "stream",
          "text": [
            "Drive already mounted at /content/drive; to attempt to forcibly remount, call drive.mount(\"/content/drive\", force_remount=True).\n"
          ],
          "name": "stdout"
        }
      ]
    }
  ]
}
