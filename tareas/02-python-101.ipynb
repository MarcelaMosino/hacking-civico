{
  "nbformat": 4,
  "nbformat_minor": 0,
  "metadata": {
    "colab": {
      "name": "Untitled2.ipynb",
      "provenance": [],
      "authorship_tag": "ABX9TyOh+d5wClvhDWE4eflCtyVK",
      "include_colab_link": true
    },
    "kernelspec": {
      "name": "python3",
      "display_name": "Python 3"
    }
  },
  "cells": [
    {
      "cell_type": "markdown",
      "metadata": {
        "id": "view-in-github",
        "colab_type": "text"
      },
      "source": [
        "<a href=\"https://colab.research.google.com/github/MarcelaMosino/hacking-civico/blob/master/tareas/02-python-101.ipynb\" target=\"_parent\"><img src=\"https://colab.research.google.com/assets/colab-badge.svg\" alt=\"Open In Colab\"/></a>"
      ]
    },
    {
      "cell_type": "markdown",
      "metadata": {
        "id": "2uP2m5iSb55m",
        "colab_type": "text"
      },
      "source": [
        "# Función que calcula la densidad de población\n",
        "\n",
        "> El objetivo de la función es calcular la densidad de población\n",
        "\n",
        "Comienzo almacenando los datos de extensión territorial y número de habitantes en un directorio para acceder fácilmente a la información sin tener que declarar 6 variables.\n",
        "\n",
        "La fórmula para calcular la densidad de población es el número de habitantes dividido por el territorio en km cuadrados, es por esto que necesito dos parámetros: *número de habitantes* ***nh*** y *extensión territorial en km2* ***et***.\n",
        "> def densidad_de_poblacion(nh, et)\n",
        "\n",
        "En el cuerpo de la función, se realiza el cálculo y devuelve el resultado sin imprimirlo, éste se almacena en la variable ***resultado*** para regresar el valor.\n",
        "\n",
        "Finalmente, para imprimir, recorro la colección con un ciclo **for**.\n"
      ]
    },
    {
      "cell_type": "code",
      "metadata": {
        "id": "8U9q_trQb5Ks",
        "colab_type": "code",
        "colab": {
          "base_uri": "https://localhost:8080/",
          "height": 173
        },
        "outputId": "c14cb4e8-4bb6-424a-efd1-f9fa93acbff1"
      },
      "source": [
        "datos =[\n",
        "  {\"Territorio\":\"Leon\", \n",
        "   \"Habitantes\":1578626, \n",
        "   \"Extension\":1219.67},\n",
        "  {\"Territorio\":\"Guanajuato\", \n",
        "   \"Habitantes\":5853677, \n",
        "   \"Extension\":30589.0},\n",
        "  {\"Territorio\":\"Mexico\", \n",
        "   \"Habitantes\":119530753, \n",
        "   \"Extension\":1964375.0}\n",
        "]\n",
        "\n",
        "def densidad_de_poblacion(nh, et):\n",
        "  resultado = nh/et\n",
        "  return resultado\n",
        "\n",
        "for i in datos:\n",
        "  print(\"Territorio: \", i['Territorio'])\n",
        "  print(\"Densidad: \",densidad_de_poblacion(i['Habitantes'], i['Extension']))\n",
        "  print()\n",
        "\n"
      ],
      "execution_count": 4,
      "outputs": [
        {
          "output_type": "stream",
          "text": [
            "Territorio:  Leon\n",
            "Densidad:  1294.3058368247148\n",
            "\n",
            "Territorio:  Guanajuato\n",
            "Densidad:  191.3654254797476\n",
            "\n",
            "Territorio:  Mexico\n",
            "Densidad:  60.84925383391664\n",
            "\n"
          ],
          "name": "stdout"
        }
      ]
    }
  ]
}