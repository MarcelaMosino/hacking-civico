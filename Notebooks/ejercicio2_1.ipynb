{
  "nbformat": 4,
  "nbformat_minor": 0,
  "metadata": {
    "colab": {
      "name": "ejercicio2_1.ipynb",
      "provenance": [],
      "authorship_tag": "ABX9TyPAioNrtMT7+Xu4ysb5/EwL",
      "include_colab_link": true
    },
    "kernelspec": {
      "name": "python3",
      "display_name": "Python 3"
    }
  },
  "cells": [
    {
      "cell_type": "markdown",
      "metadata": {
        "id": "view-in-github",
        "colab_type": "text"
      },
      "source": [
        "<a href=\"https://colab.research.google.com/github/MarcelaMosino/hacking-civico/blob/master/Notebooks/ejercicio2_1.ipynb\" target=\"_parent\"><img src=\"https://colab.research.google.com/assets/colab-badge.svg\" alt=\"Open In Colab\"/></a>"
      ]
    },
    {
      "cell_type": "markdown",
      "metadata": {
        "id": "FSh_pImQsj2L",
        "colab_type": "text"
      },
      "source": [
        "Ejercicio 2.1 Mayoría de edad"
      ]
    },
    {
      "cell_type": "code",
      "metadata": {
        "id": "_CTRXnbHrY8z",
        "colab_type": "code",
        "colab": {
          "base_uri": "https://localhost:8080/",
          "height": 87
        },
        "outputId": "2f3c0be9-146f-4d6e-8479-06432379ee0c"
      },
      "source": [
        "print(\"El programa muestra si una persona predeterminada\")\n",
        "print(\"es o no mayor de edad\\n \")\n",
        "\n",
        "nombre = \"Marcela\"\n",
        "edad= 21\n",
        "\n",
        "if edad > 18 :\n",
        "  print(nombre + \" es mayor de edad\")\n",
        "else :\n",
        "  print(nombre + \" no es mayor de edad\")"
      ],
      "execution_count": 5,
      "outputs": [
        {
          "output_type": "stream",
          "text": [
            "El programa muestra si una persona predeterminada\n",
            "es o no mayor de edad\n",
            " \n",
            "Marcela es mayor de edad\n"
          ],
          "name": "stdout"
        }
      ]
    }
  ]
}