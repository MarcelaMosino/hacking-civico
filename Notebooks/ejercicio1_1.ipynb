{
  "nbformat": 4,
  "nbformat_minor": 0,
  "metadata": {
    "colab": {
      "name": "Untitled0.ipynb",
      "provenance": [],
      "authorship_tag": "ABX9TyOLhEe8y0cxjuaWbl8nvjQW",
      "include_colab_link": true
    },
    "kernelspec": {
      "name": "python3",
      "display_name": "Python 3"
    }
  },
  "cells": [
    {
      "cell_type": "markdown",
      "metadata": {
        "id": "view-in-github",
        "colab_type": "text"
      },
      "source": [
        "<a href=\"https://colab.research.google.com/github/MarcelaMosino/hacking-civico/blob/master/Notebooks/ejercicio1_1.ipynb\" target=\"_parent\"><img src=\"https://colab.research.google.com/assets/colab-badge.svg\" alt=\"Open In Colab\"/></a>"
      ]
    },
    {
      "cell_type": "markdown",
      "metadata": {
        "id": "eabmy_hUvcZQ",
        "colab_type": "text"
      },
      "source": [
        "Ejercicio 1 Tipos de datos"
      ]
    },
    {
      "cell_type": "code",
      "metadata": {
        "id": "OQ3wGiOmtEaI",
        "colab_type": "code",
        "colab": {
          "base_uri": "https://localhost:8080/",
          "height": 243
        },
        "outputId": "14a54f53-38cf-4a88-ccd2-9b030b87ba87"
      },
      "source": [
        "nombre_flor = \"Girasol\"\n",
        "precio = 30.5\n",
        "stock = True\n",
        "\n",
        "print(\"La flor que seleccionó es:\\n\")\n",
        "print(\"Nombre: \" +nombre_flor + \"\\nTipo de dato: \")\n",
        "print(type(nombre_flor))\n",
        "print(\"\\nPrecio: \" + str(precio) + \"\\nTipo de dato: \")\n",
        "print(type(precio))\n",
        "print(\"\\nHay en stock: \"+ str(stock) + \"\\nTipo de dato: \")\n",
        "print(type(stock))\n",
        "\n"
      ],
      "execution_count": 7,
      "outputs": [
        {
          "output_type": "stream",
          "text": [
            "La flor que seleccionó es:\n",
            "\n",
            "Nombre: Girasol\n",
            "Tipo de dato: \n",
            "<class 'str'>\n",
            "\n",
            "Precio: 30.5\n",
            "Tipo de dato: \n",
            "<class 'float'>\n",
            "\n",
            "Hay en stock: True\n",
            "Tipo de dato: \n",
            "<class 'bool'>\n"
          ],
          "name": "stdout"
        }
      ]
    }
  ]
}